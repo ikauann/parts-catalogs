{
 "cells": [
  {
   "cell_type": "markdown",
   "id": "d63f3e00",
   "metadata": {
    "heading_collapsed": true
   },
   "source": [
    "# FUNCOES"
   ]
  },
  {
   "cell_type": "code",
   "execution_count": 5,
   "id": "be697145",
   "metadata": {
    "ExecuteTime": {
     "end_time": "2022-09-30T23:42:14.367777Z",
     "start_time": "2022-09-30T23:42:14.341770Z"
    },
    "hidden": true
   },
   "outputs": [],
   "source": [
    "def get_infos_dois_teste():\n",
    "    #script pronto - text, codigo:\n",
    "    try:\n",
    "        try:\n",
    "\n",
    "            check = driver.find_element_by_xpath('//div[@class=\"B1ZOni84Q4_Yx7mcZ7zKp\"]')\n",
    "\n",
    "            categorias = len(driver.find_elements_by_xpath('//ul[@class=\"_3v42nw3VuuL9niLqM2FkLE\"]/li'))\n",
    "            aux = driver.find_element_by_xpath('//div[@class=\"tnvYZzmJ-jmbyZ9kNPryT _2btyhDfbjoNwKel2Ew_Mmf _2DOJ7JD_9Z1Xej6XwlAZvf\"]')\n",
    "\n",
    "            nome_lista = []\n",
    "            codigo_lista = []\n",
    "            for categoria in range(1, categorias+1):\n",
    "                for categoria_li in range(1, 10):\n",
    "                    try:\n",
    "                        codigo = aux.find_element_by_xpath(f'//ul[@class=\"_3v42nw3VuuL9niLqM2FkLE\"]/li[{categoria}]/div[2]/ul/li[{categoria_li}]//div[@class=\"KbFygPgMlJ7jl5s21RJPI _1YwnP4Z5J3grA6c0wGSvnF\"]').text\n",
    "                        nome = aux.find_element_by_xpath(f'//ul[@class=\"_3v42nw3VuuL9niLqM2FkLE\"]/li[{categoria}]/div[1]/div/div/div/span').text\n",
    "\n",
    "                        nome_lista.append(nome)\n",
    "                        codigo_lista.append(codigo)\n",
    "\n",
    "                        dictionary['nome'] = nome_lista\n",
    "                        dictionary['codigo'] = codigo_lista\n",
    "                    except NoSuchElementException:\n",
    "                        pass\n",
    "            aux_ano = [elem.find_element_by_xpath('div[2]').text if elem.find_element_by_xpath('div[1]').text == \"Year\" else \"\" for elem in driver.find_elements_by_xpath('//li[@class=\"_1aQVewIy8-bOC25Ti2Wsxl\"]')]\n",
    "            aux_vin = [elem.find_element_by_xpath('div[2]').text if elem.find_element_by_xpath('div[1]').text == \"VIN / FRAME\" else \"\" for elem in driver.find_elements_by_xpath('//li[@class=\"_1aQVewIy8-bOC25Ti2Wsxl\"]') ]\n",
    "\n",
    "\n",
    "            dictionary['marca'] = driver.find_element_by_xpath('//h1[@class=\"_3CVGOzNwYm3aWZcBrVcWx\"]/p').text\n",
    "            dictionary['vin'] = [vin for vin in aux_vin if vin != ''][0]\n",
    "            dictionary['ano'] = [ano for ano in aux_ano if ano != ''][0]\n",
    "            \n",
    "        except NoSuchElementException:\n",
    "\n",
    "            check = driver.find_element_by_xpath('//ul[@class=\"_3v42nw3VuuL9niLqM2FkLE\"]/li/div[2]')\n",
    "\n",
    "            categorias = len(driver.find_elements_by_xpath('//ul[@class=\"_3v42nw3VuuL9niLqM2FkLE\"]/li'))\n",
    "            aux = driver.find_element_by_xpath('//div[@class=\"tnvYZzmJ-jmbyZ9kNPryT _2btyhDfbjoNwKel2Ew_Mmf _2DOJ7JD_9Z1Xej6XwlAZvf\"]')\n",
    "\n",
    "            nome_lista = []\n",
    "            codigo_lista = []\n",
    "            for categoria in range(1, categorias+1):\n",
    "                for categoria_li in range(1, 10):\n",
    "                    try:\n",
    "                        codigo = aux.find_element_by_xpath(f'//ul[@class=\"_3v42nw3VuuL9niLqM2FkLE\"]/li[{categoria}]/div[2]/ul/li[{categoria_li}]//div[@class=\"KbFygPgMlJ7jl5s21RJPI _1YwnP4Z5J3grA6c0wGSvnF\"]').text\n",
    "                        nome = aux.find_element_by_xpath(f'//ul[@class=\"_3v42nw3VuuL9niLqM2FkLE\"]/li[{categoria}]/div[1]/div/div/div/span').text\n",
    "\n",
    "                        nome_lista.append(nome)\n",
    "                        codigo_lista.append(codigo)\n",
    "\n",
    "                        dictionary['nome'] = nome_lista\n",
    "                        dictionary['codigo'] = codigo_lista\n",
    "                    except NoSuchElementException:\n",
    "                        pass\n",
    "\n",
    "\n",
    "            aux_ano = [elem.find_element_by_xpath('div[2]').text if elem.find_element_by_xpath('div[1]').text == \"Year\" else \"\" for elem in driver.find_elements_by_xpath('//li[@class=\"_1aQVewIy8-bOC25Ti2Wsxl\"]')]\n",
    "\n",
    "            aux_vin = [elem.find_element_by_xpath('div[2]').text if elem.find_element_by_xpath('div[1]').text == \"VIN / FRAME\" else \"\" for elem in driver.find_elements_by_xpath('//li[@class=\"_1aQVewIy8-bOC25Ti2Wsxl\"]') ]\n",
    "\n",
    "\n",
    "            dictionary['marca'] = driver.find_element_by_xpath('//h1[@class=\"_3CVGOzNwYm3aWZcBrVcWx\"]/p').text\n",
    "            dictionary['vin'] = [vin for vin in aux_vin if vin != ''][0]\n",
    "            dictionary['ano'] = [ano for ano in aux_ano if ano != ''][0]\n",
    "            \n",
    "    except NoSuchElementException:\n",
    "\n",
    "        categorias = len(driver.find_elements_by_xpath('//ul[@class=\"_3v42nw3VuuL9niLqM2FkLE\"]/li'))\n",
    "        aux = driver.find_element_by_xpath('//div[@class=\"tnvYZzmJ-jmbyZ9kNPryT _2btyhDfbjoNwKel2Ew_Mmf _2DOJ7JD_9Z1Xej6XwlAZvf\"]')\n",
    "\n",
    "        nome_lista = []\n",
    "        codigo_lista = []\n",
    "        for categoria in range(1, categorias+1):\n",
    "            for categoria_li in range(1, 10):\n",
    "                try:\n",
    "                    codigo = aux.find_element_by_xpath(f'//ul[@class=\"_3v42nw3VuuL9niLqM2FkLE\"]/li[{categoria}]/div[2]/ul/li[{categoria_li}]//div[@class=\"KbFygPgMlJ7jl5s21RJPI _1YwnP4Z5J3grA6c0wGSvnF\"]').text\n",
    "                    nome = aux.find_element_by_xpath(f'//ul[@class=\"_3v42nw3VuuL9niLqM2FkLE\"]/li[{categoria}]/div[1]/div/div/div/span').text\n",
    "\n",
    "                    nome_lista.append(nome)\n",
    "                    codigo_lista.append(codigo)\n",
    "\n",
    "                    dictionary['nome'] = nome_lista\n",
    "                    dictionary['codigo'] = codigo_lista\n",
    "                except NoSuchElementException:\n",
    "                    pass\n",
    "\n",
    "        aux_ano = [elem.find_element_by_xpath('div[2]').text if elem.find_element_by_xpath('div[1]').text == \"Year\" else \"\" for elem in driver.find_elements_by_xpath('//li[@class=\"_1aQVewIy8-bOC25Ti2Wsxl\"]')]\n",
    "\n",
    "        aux_vin = [elem.find_element_by_xpath('div[2]').text if elem.find_element_by_xpath('div[1]').text == \"VIN / FRAME\" else \"\" for elem in driver.find_elements_by_xpath('//li[@class=\"_1aQVewIy8-bOC25Ti2Wsxl\"]') ]\n",
    "\n",
    "\n",
    "        dictionary['marca'] = driver.find_element_by_xpath('//h1[@class=\"_3CVGOzNwYm3aWZcBrVcWx\"]/p').text\n",
    "        dictionary['vin'] = [vin for vin in aux_vin if vin != ''][0]\n",
    "        dictionary['ano'] = [ano for ano in aux_ano if ano != ''][0]\n",
    "        \n",
    "    buttons = aux.find_elements_by_xpath('//button[@class=\"_3WUo0QW-jq7ej3P0zmFZRX\"]')\n",
    "\n",
    "    button_lista = []\n",
    "    for button in buttons:\n",
    "        button.click()\n",
    "        texto_button = button.find_element_by_xpath('//div[@class=\"B1ZOni84Q4_Yx7mcZ7zKp\"]/div').text\n",
    "        button_lista.append(texto_button.split('\\n'))\n",
    "    dictionary['texto'] = button_lista\n",
    "\n",
    "    while len(dictionary['nome']) != len(dictionary['texto']):\n",
    "        dictionary['texto'].append(0)\n",
    "\n",
    "    return pd.DataFrame(dictionary)\n",
    "\n",
    "def resetar_dicionario():\n",
    "    dictionary = {\n",
    "        'url': 0,\n",
    "\n",
    "        'vin': 0,\n",
    "        'marca': 0,\n",
    "        'veiculo': 0,\n",
    "        'ano': 0,\n",
    "        'cat1': 0,\n",
    "        'cat2': 0,\n",
    "        'cat3': 0,\n",
    "        'cat4': 0,\n",
    "\n",
    "        'nome': 0,\n",
    "        'codigo': 0,\n",
    "        'texto': 0\n",
    "    }\n",
    "    return None\n",
    "resetar_dicionario()"
   ]
  },
  {
   "cell_type": "code",
   "execution_count": null,
   "id": "571039b3",
   "metadata": {
    "hidden": true
   },
   "outputs": [],
   "source": []
  },
  {
   "cell_type": "markdown",
   "id": "19002c0f",
   "metadata": {
    "ExecuteTime": {
     "end_time": "2022-09-22T16:13:26.156564Z",
     "start_time": "2022-09-22T16:13:26.150563Z"
    }
   },
   "source": [
    "# TESTES"
   ]
  },
  {
   "cell_type": "code",
   "execution_count": 1,
   "id": "0e2bc9cf",
   "metadata": {
    "ExecuteTime": {
     "end_time": "2022-10-01T15:28:48.238423Z",
     "start_time": "2022-10-01T15:28:36.148421Z"
    }
   },
   "outputs": [],
   "source": [
    "import pandas as pd\n",
    "\n",
    "from selenium import webdriver\n",
    "from selenium.common.exceptions import NoSuchElementException\n",
    "import os\n",
    "import warnings\n",
    "\n",
    "from time import sleep\n",
    "warnings.filterwarnings('ignore')\n",
    "\n",
    "# ========================================================================================================\n",
    "\n",
    "import os\n",
    "import pandas as pd\n",
    "\n",
    "master_df = pd.DataFrame()\n",
    "\n",
    "for file in os.listdir(os.getcwd() + '/bases'):\n",
    "    if file.endswith('.csv'):\n",
    "        master_df = master_df.append(pd.read_csv(os.getcwd() + f'/bases/{file}'))\n",
    "        \n",
    "master_df.to_csv('JMYLRN34WWZ800158.CSV', index=False)\n",
    "\n",
    "# ========================================================================================================\n",
    "\n",
    "try: # linux\n",
    "    EXECUTABLE_PATH = os.getcwd() + str('/geckodriver')\n",
    "    driver = webdriver.Firefox(executable_path=EXECUTABLE_PATH)\n",
    "except: #windows\n",
    "    EXECUTABLE_PATH = os.getcwd() + str('/geckodriver.exe')\n",
    "    driver = webdriver.Firefox(executable_path=EXECUTABLE_PATH)"
   ]
  },
  {
   "cell_type": "code",
   "execution_count": 16,
   "id": "8e083fba",
   "metadata": {
    "ExecuteTime": {
     "end_time": "2022-09-30T23:46:32.085882Z",
     "start_time": "2022-09-30T23:46:27.814840Z"
    }
   },
   "outputs": [],
   "source": [
    "url = \"https://www.parts-catalogs.com/us/demo/#/groups?catalogId=hyundai&carId=7a40c15fa6a613f5743ffd65d33265f8&q=KMHJN81DP8U897992&criteria=ea%2aKMHJN81DP8U897992%7BW5%7CF7%7C6%7C1%7CC%7C%7C%7C%7C%7C~20080312%21c16f6b53%2477c9f9273693dc7cf39f98d8ba670ab9%7D358dce1d900d6106bc62d5c9bf75c87d%5E1%3C01%28W5,02%28F7,03%286,04%281,05%28C,DT%28L,WT%281%3E0\"\n",
    "driver.get(url)"
   ]
  },
  {
   "cell_type": "code",
   "execution_count": 6,
   "id": "b7c56dab",
   "metadata": {
    "ExecuteTime": {
     "end_time": "2022-09-30T23:42:19.381765Z",
     "start_time": "2022-09-30T23:42:19.298765Z"
    }
   },
   "outputs": [
    {
     "data": {
      "text/plain": [
       "{'NÚMERO DE PAGINAS': 36, 'NÚMERO DE PAGINAS DATAFRAME': 6}"
      ]
     },
     "execution_count": 6,
     "metadata": {},
     "output_type": "execute_result"
    }
   ],
   "source": [
    "df = pd.read_csv('./KMHJN81DP8U897992.CSV')\n",
    "df = df[df['veiculo'] != 'Toyota Corolla (S.america) XEI - ZRE143L-GEPNGG']\n",
    "df = df[['cat1', 'cat2']]\n",
    "\n",
    "df = df.drop_duplicates()\n",
    "\n",
    "df['cat1'].value_counts()"
   ]
  },
  {
   "cell_type": "code",
   "execution_count": 26,
   "id": "fdea02c5",
   "metadata": {
    "ExecuteTime": {
     "end_time": "2022-09-30T23:47:34.508467Z",
     "start_time": "2022-09-30T23:47:34.491458Z"
    }
   },
   "outputs": [
    {
     "name": "stdout",
     "output_type": "stream",
     "text": [
      "21\n",
      "6\n"
     ]
    }
   ],
   "source": [
    "\n",
    "aux = driver.find_element_by_class_name('_22r-aP-9FoHZ7xmDD2tOmg')\n",
    "print(len(aux.find_elements_by_tag_name('li')))\n",
    "print(len(df['cat1'].drop_duplicates()))"
   ]
  },
  {
   "cell_type": "code",
   "execution_count": 25,
   "id": "153ba997",
   "metadata": {
    "ExecuteTime": {
     "end_time": "2022-09-30T23:47:33.403458Z",
     "start_time": "2022-09-30T23:47:33.395458Z"
    }
   },
   "outputs": [
    {
     "data": {
      "text/plain": [
       "21"
      ]
     },
     "execution_count": 25,
     "metadata": {},
     "output_type": "execute_result"
    }
   ],
   "source": [
    "len(df[df['cat1'] == \"Chassis\"])"
   ]
  },
  {
   "cell_type": "code",
   "execution_count": null,
   "id": "70fe0cf3",
   "metadata": {},
   "outputs": [],
   "source": []
  },
  {
   "cell_type": "code",
   "execution_count": null,
   "id": "51b655e8",
   "metadata": {},
   "outputs": [],
   "source": []
  },
  {
   "cell_type": "code",
   "execution_count": null,
   "id": "8849a299",
   "metadata": {},
   "outputs": [],
   "source": []
  },
  {
   "cell_type": "code",
   "execution_count": null,
   "id": "37ade51c",
   "metadata": {},
   "outputs": [],
   "source": []
  },
  {
   "cell_type": "code",
   "execution_count": null,
   "id": "4b3c85a3",
   "metadata": {},
   "outputs": [],
   "source": []
  },
  {
   "cell_type": "code",
   "execution_count": null,
   "id": "e5765968",
   "metadata": {},
   "outputs": [],
   "source": []
  },
  {
   "cell_type": "code",
   "execution_count": null,
   "id": "2dee3467",
   "metadata": {},
   "outputs": [],
   "source": []
  },
  {
   "cell_type": "code",
   "execution_count": null,
   "id": "0f0b7db0",
   "metadata": {},
   "outputs": [],
   "source": []
  },
  {
   "cell_type": "code",
   "execution_count": null,
   "id": "d44a532e",
   "metadata": {},
   "outputs": [],
   "source": []
  },
  {
   "cell_type": "code",
   "execution_count": null,
   "id": "e56dcf60",
   "metadata": {},
   "outputs": [],
   "source": []
  }
 ],
 "metadata": {
  "kernelspec": {
   "display_name": "Python 3 (ipykernel)",
   "language": "python",
   "name": "python3"
  },
  "language_info": {
   "codemirror_mode": {
    "name": "ipython",
    "version": 3
   },
   "file_extension": ".py",
   "mimetype": "text/x-python",
   "name": "python",
   "nbconvert_exporter": "python",
   "pygments_lexer": "ipython3",
   "version": "3.10.4"
  },
  "nbTranslate": {
   "displayLangs": [
    "*"
   ],
   "hotkey": "alt-t",
   "langInMainMenu": true,
   "sourceLang": "en",
   "targetLang": "fr",
   "useGoogleTranslate": true
  },
  "toc": {
   "base_numbering": 1,
   "nav_menu": {},
   "number_sections": true,
   "sideBar": true,
   "skip_h1_title": false,
   "title_cell": "Table of Contents",
   "title_sidebar": "Contents",
   "toc_cell": false,
   "toc_position": {},
   "toc_section_display": true,
   "toc_window_display": false
  },
  "vscode": {
   "interpreter": {
    "hash": "662b005375e53b0c44308d27415f1e856470e00cb50637db761f33af65c755fc"
   }
  }
 },
 "nbformat": 4,
 "nbformat_minor": 5
}
